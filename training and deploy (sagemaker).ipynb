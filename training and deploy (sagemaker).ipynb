{
 "cells": [
  {
   "cell_type": "code",
   "execution_count": 1,
   "id": "a27c62f1-d563-4c0d-b200-592fe99811b0",
   "metadata": {},
   "outputs": [
    {
     "name": "stdout",
     "output_type": "stream",
     "text": [
      "Requirement already satisfied: lightgbm==4.3.0 in /opt/conda/lib/python3.11/site-packages (from -r requirements.txt (line 1)) (4.3.0)\n",
      "Requirement already satisfied: xgboost==2.1.3 in /opt/conda/lib/python3.11/site-packages (from -r requirements.txt (line 2)) (2.1.3)\n",
      "Requirement already satisfied: scikit-learn==1.2.1 in /opt/conda/lib/python3.11/site-packages (from -r requirements.txt (line 3)) (1.2.1)\n",
      "Requirement already satisfied: pandas==2.0.3 in /opt/conda/lib/python3.11/site-packages (from -r requirements.txt (line 4)) (2.0.3)\n",
      "Requirement already satisfied: dask[dataframe] in /opt/conda/lib/python3.11/site-packages (from -r requirements.txt (line 5)) (2024.8.0)\n",
      "Requirement already satisfied: numpy in /opt/conda/lib/python3.11/site-packages (from lightgbm==4.3.0->-r requirements.txt (line 1)) (1.26.4)\n",
      "Requirement already satisfied: scipy in /opt/conda/lib/python3.11/site-packages (from lightgbm==4.3.0->-r requirements.txt (line 1)) (1.14.1)\n",
      "Requirement already satisfied: joblib>=1.1.1 in /opt/conda/lib/python3.11/site-packages (from scikit-learn==1.2.1->-r requirements.txt (line 3)) (1.4.2)\n",
      "Requirement already satisfied: threadpoolctl>=2.0.0 in /opt/conda/lib/python3.11/site-packages (from scikit-learn==1.2.1->-r requirements.txt (line 3)) (3.5.0)\n",
      "Requirement already satisfied: python-dateutil>=2.8.2 in /opt/conda/lib/python3.11/site-packages (from pandas==2.0.3->-r requirements.txt (line 4)) (2.9.0.post0)\n",
      "Requirement already satisfied: pytz>=2020.1 in /opt/conda/lib/python3.11/site-packages (from pandas==2.0.3->-r requirements.txt (line 4)) (2023.3)\n",
      "Requirement already satisfied: tzdata>=2022.1 in /opt/conda/lib/python3.11/site-packages (from pandas==2.0.3->-r requirements.txt (line 4)) (2024.2)\n",
      "Requirement already satisfied: click>=8.1 in /opt/conda/lib/python3.11/site-packages (from dask[dataframe]->-r requirements.txt (line 5)) (8.1.7)\n",
      "Requirement already satisfied: cloudpickle>=1.5.0 in /opt/conda/lib/python3.11/site-packages (from dask[dataframe]->-r requirements.txt (line 5)) (2.2.1)\n",
      "Requirement already satisfied: fsspec>=2021.09.0 in /opt/conda/lib/python3.11/site-packages (from dask[dataframe]->-r requirements.txt (line 5)) (2023.6.0)\n",
      "Requirement already satisfied: packaging>=20.0 in /opt/conda/lib/python3.11/site-packages (from dask[dataframe]->-r requirements.txt (line 5)) (24.2)\n",
      "Requirement already satisfied: partd>=1.4.0 in /opt/conda/lib/python3.11/site-packages (from dask[dataframe]->-r requirements.txt (line 5)) (1.4.2)\n",
      "Requirement already satisfied: pyyaml>=5.3.1 in /opt/conda/lib/python3.11/site-packages (from dask[dataframe]->-r requirements.txt (line 5)) (6.0.2)\n",
      "Requirement already satisfied: toolz>=0.10.0 in /opt/conda/lib/python3.11/site-packages (from dask[dataframe]->-r requirements.txt (line 5)) (0.12.1)\n",
      "Requirement already satisfied: importlib-metadata>=4.13.0 in /opt/conda/lib/python3.11/site-packages (from dask[dataframe]->-r requirements.txt (line 5)) (6.10.0)\n",
      "Requirement already satisfied: dask-expr<1.2,>=1.1 in /opt/conda/lib/python3.11/site-packages (from dask[dataframe]->-r requirements.txt (line 5)) (1.1.10)\n",
      "Requirement already satisfied: pyarrow>=7.0.0 in /opt/conda/lib/python3.11/site-packages (from dask-expr<1.2,>=1.1->dask[dataframe]->-r requirements.txt (line 5)) (17.0.0)\n",
      "Requirement already satisfied: zipp>=0.5 in /opt/conda/lib/python3.11/site-packages (from importlib-metadata>=4.13.0->dask[dataframe]->-r requirements.txt (line 5)) (3.21.0)\n",
      "Requirement already satisfied: locket in /opt/conda/lib/python3.11/site-packages (from partd>=1.4.0->dask[dataframe]->-r requirements.txt (line 5)) (1.0.0)\n",
      "Requirement already satisfied: six>=1.5 in /opt/conda/lib/python3.11/site-packages (from python-dateutil>=2.8.2->pandas==2.0.3->-r requirements.txt (line 4)) (1.17.0)\n"
     ]
    },
    {
     "data": {
      "text/plain": [
       "0"
      ]
     },
     "execution_count": 1,
     "metadata": {},
     "output_type": "execute_result"
    }
   ],
   "source": [
    "import subprocess\n",
    "\n",
    "# Install dependencies\n",
    "subprocess.check_call([\"pip\", \"install\", \"-r\", \"requirements.txt\"])"
   ]
  },
  {
   "cell_type": "code",
   "execution_count": 2,
   "id": "79dd13e7-0f57-4e81-901d-7714cda02a52",
   "metadata": {},
   "outputs": [],
   "source": [
    "from model_fine_tuning import model_main\n",
    "import warnings\n",
    "warnings.filterwarnings(\"ignore\")"
   ]
  },
  {
   "cell_type": "markdown",
   "id": "16cf6435-79a8-440b-833a-f81b1339984a",
   "metadata": {},
   "source": [
    "### fitting the model"
   ]
  },
  {
   "cell_type": "code",
   "execution_count": 3,
   "id": "7e46bf38-6fac-47c4-918f-f514b4d1f6f7",
   "metadata": {},
   "outputs": [
    {
     "name": "stdout",
     "output_type": "stream",
     "text": [
      "Training DecisionTreeClassifier...\n",
      "Test Accuracy: 0.985\n",
      "Confusion Matrix:\n",
      "[[ 34   3]\n",
      " [  0 163]]\n",
      "Classification Report:\n",
      "              precision    recall  f1-score   support\n",
      "\n",
      "         bad       1.00      0.92      0.96        37\n",
      "        good       0.98      1.00      0.99       163\n",
      "\n",
      "    accuracy                           0.98       200\n",
      "   macro avg       0.99      0.96      0.97       200\n",
      "weighted avg       0.99      0.98      0.98       200\n",
      "\n",
      "Training LGBMClassifier...\n",
      "Fitting 5 folds for each of 27 candidates, totalling 135 fits\n",
      "Test Accuracy: 0.995\n",
      "Confusion Matrix:\n",
      "[[ 36   1]\n",
      " [  0 163]]\n",
      "Classification Report:\n",
      "              precision    recall  f1-score   support\n",
      "\n",
      "         bad       1.00      0.97      0.99        37\n",
      "        good       0.99      1.00      1.00       163\n",
      "\n",
      "    accuracy                           0.99       200\n",
      "   macro avg       1.00      0.99      0.99       200\n",
      "weighted avg       1.00      0.99      0.99       200\n",
      "\n",
      "Training XGBClassifier...\n",
      "Fitting 5 folds for each of 36 candidates, totalling 180 fits\n",
      "Test Accuracy: 0.995\n",
      "Confusion Matrix:\n",
      "[[ 36   1]\n",
      " [  0 163]]\n",
      "Classification Report:\n",
      "              precision    recall  f1-score   support\n",
      "\n",
      "         bad       1.00      0.97      0.99        37\n",
      "        good       0.99      1.00      1.00       163\n",
      "\n",
      "    accuracy                           0.99       200\n",
      "   macro avg       1.00      0.99      0.99       200\n",
      "weighted avg       1.00      0.99      0.99       200\n",
      "\n",
      "Training VotingClassifier...\n",
      "Test Accuracy: 0.995\n",
      "Confusion Matrix:\n",
      "[[ 36   1]\n",
      " [  0 163]]\n",
      "Classification Report:\n",
      "              precision    recall  f1-score   support\n",
      "\n",
      "         bad       1.00      0.97      0.99        37\n",
      "        good       0.99      1.00      1.00       163\n",
      "\n",
      "    accuracy                           0.99       200\n",
      "   macro avg       1.00      0.99      0.99       200\n",
      "weighted avg       1.00      0.99      0.99       200\n",
      "\n"
     ]
    }
   ],
   "source": [
    "model_main()"
   ]
  },
  {
   "cell_type": "code",
   "execution_count": 4,
   "id": "2a0a58ba-6e19-45b4-ae12-ad48e4cd7a1e",
   "metadata": {},
   "outputs": [
    {
     "name": "stdout",
     "output_type": "stream",
     "text": [
      "voting_classifier.pkl\n",
      "model.py\n"
     ]
    }
   ],
   "source": [
    "! tar -czvf model.tar.gz voting_classifier.pkl model.py"
   ]
  },
  {
   "cell_type": "code",
   "execution_count": 5,
   "id": "e8174861-b933-4eda-98d8-7f3b8ee17a46",
   "metadata": {},
   "outputs": [
    {
     "name": "stdout",
     "output_type": "stream",
     "text": [
      "sagemaker.config INFO - Not applying SDK defaults from location: /etc/xdg/sagemaker/config.yaml\n",
      "sagemaker.config INFO - Not applying SDK defaults from location: /home/sagemaker-user/.config/sagemaker/config.yaml\n"
     ]
    }
   ],
   "source": [
    "from deploy import deploy_model_in_endpoint"
   ]
  },
  {
   "cell_type": "code",
   "execution_count": 6,
   "id": "d204ff93-8a63-4315-9830-c40d7b5d2e78",
   "metadata": {},
   "outputs": [
    {
     "name": "stdout",
     "output_type": "stream",
     "text": [
      "-------!Deployed Endpoint: reevalua-prueba-tecnica-2025-01-02-19-17-28\n"
     ]
    }
   ],
   "source": [
    "predictor = deploy_model_in_endpoint()"
   ]
  },
  {
   "cell_type": "markdown",
   "id": "bde7c208-41a8-4bee-8c7d-5e4a029bfcf9",
   "metadata": {},
   "source": [
    "### trying the model insitu"
   ]
  },
  {
   "cell_type": "code",
   "execution_count": 7,
   "id": "7a2f1407-8f4c-4adf-8f7f-2747aa34d1f2",
   "metadata": {},
   "outputs": [],
   "source": [
    "from model import predict_fn\n",
    "import pandas as pd"
   ]
  },
  {
   "cell_type": "code",
   "execution_count": 8,
   "id": "3eead98a-dac9-4b46-b38d-b1c8aae2f70f",
   "metadata": {},
   "outputs": [],
   "source": [
    "original = pd.read_csv(\"credit_risk_reto.csv\")"
   ]
  },
  {
   "cell_type": "code",
   "execution_count": 9,
   "id": "08419d1e-74a1-4f2f-87d1-18062ee051e1",
   "metadata": {},
   "outputs": [
    {
     "name": "stderr",
     "output_type": "stream",
     "text": [
      "2025-01-02 19:25:02,624 - INFO - Starting prediction process.\n",
      "2025-01-02 19:25:02,631 - INFO - Raw input_data type: <class 'list'>\n",
      "2025-01-02 19:25:02,634 - INFO - Raw input_data shape: 10\n"
     ]
    },
    {
     "data": {
      "text/plain": [
       "['good', 'good', 'bad', 'good', 'good', 'bad', 'good', 'good', 'bad', 'good']"
      ]
     },
     "execution_count": 9,
     "metadata": {},
     "output_type": "execute_result"
    }
   ],
   "source": [
    "predict_fn(original.iloc[:10].to_dict(orient=\"records\"), predictor)"
   ]
  },
  {
   "cell_type": "code",
   "execution_count": 10,
   "id": "6d916b9f-d75b-48e4-bcf0-c03289364a3b",
   "metadata": {},
   "outputs": [
    {
     "name": "stderr",
     "output_type": "stream",
     "text": [
      "2025-01-02 19:25:04,042 - INFO - Starting prediction process.\n",
      "2025-01-02 19:25:04,046 - INFO - Raw input_data type: <class 'list'>\n",
      "2025-01-02 19:25:04,048 - INFO - Raw input_data shape: 1\n"
     ]
    },
    {
     "data": {
      "text/plain": [
       "['good']"
      ]
     },
     "execution_count": 10,
     "metadata": {},
     "output_type": "execute_result"
    }
   ],
   "source": [
    "predict_fn(original.iloc[:1].to_dict(orient=\"records\"), predictor)"
   ]
  },
  {
   "cell_type": "code",
   "execution_count": null,
   "id": "bbf199b4-0cc7-4a1d-b223-a447de8ee3ec",
   "metadata": {},
   "outputs": [],
   "source": []
  }
 ],
 "metadata": {
  "kernelspec": {
   "display_name": "Python 3 (ipykernel)",
   "language": "python",
   "name": "python3"
  },
  "language_info": {
   "codemirror_mode": {
    "name": "ipython",
    "version": 3
   },
   "file_extension": ".py",
   "mimetype": "text/x-python",
   "name": "python",
   "nbconvert_exporter": "python",
   "pygments_lexer": "ipython3",
   "version": "3.11.11"
  }
 },
 "nbformat": 4,
 "nbformat_minor": 5
}
